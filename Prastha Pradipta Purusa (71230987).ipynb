{
 "cells": [
  {
   "cell_type": "code",
   "execution_count": 1,
   "id": "dceb60e5",
   "metadata": {},
   "outputs": [
    {
     "ename": "FileNotFoundError",
     "evalue": "[Errno 2] No such file or directory: 'file1.txt'",
     "output_type": "error",
     "traceback": [
      "\u001b[1;31m---------------------------------------------------------------------------\u001b[0m",
      "\u001b[1;31mFileNotFoundError\u001b[0m                         Traceback (most recent call last)",
      "Cell \u001b[1;32mIn[1], line 4\u001b[0m\n\u001b[0;32m      1\u001b[0m file1 \u001b[38;5;241m=\u001b[39m \u001b[38;5;124m'\u001b[39m\u001b[38;5;124mfile1.txt\u001b[39m\u001b[38;5;124m'\u001b[39m\n\u001b[0;32m      2\u001b[0m file2 \u001b[38;5;241m=\u001b[39m \u001b[38;5;124m'\u001b[39m\u001b[38;5;124mfile2.txt\u001b[39m\u001b[38;5;124m'\u001b[39m\n\u001b[1;32m----> 4\u001b[0m f1 \u001b[38;5;241m=\u001b[39m \u001b[38;5;28mopen\u001b[39m(file1, \u001b[38;5;124m'\u001b[39m\u001b[38;5;124mr\u001b[39m\u001b[38;5;124m'\u001b[39m)\n\u001b[0;32m      5\u001b[0m f2 \u001b[38;5;241m=\u001b[39m \u001b[38;5;28mopen\u001b[39m(file2, \u001b[38;5;124m'\u001b[39m\u001b[38;5;124mr\u001b[39m\u001b[38;5;124m'\u001b[39m)\n\u001b[0;32m      7\u001b[0m lines1 \u001b[38;5;241m=\u001b[39m f1\u001b[38;5;241m.\u001b[39mreadlines()\n",
      "File \u001b[1;32m~\\anaconda3\\Lib\\site-packages\\IPython\\core\\interactiveshell.py:286\u001b[0m, in \u001b[0;36m_modified_open\u001b[1;34m(file, *args, **kwargs)\u001b[0m\n\u001b[0;32m    279\u001b[0m \u001b[38;5;28;01mif\u001b[39;00m file \u001b[38;5;129;01min\u001b[39;00m {\u001b[38;5;241m0\u001b[39m, \u001b[38;5;241m1\u001b[39m, \u001b[38;5;241m2\u001b[39m}:\n\u001b[0;32m    280\u001b[0m     \u001b[38;5;28;01mraise\u001b[39;00m \u001b[38;5;167;01mValueError\u001b[39;00m(\n\u001b[0;32m    281\u001b[0m         \u001b[38;5;124mf\u001b[39m\u001b[38;5;124m\"\u001b[39m\u001b[38;5;124mIPython won\u001b[39m\u001b[38;5;124m'\u001b[39m\u001b[38;5;124mt let you open fd=\u001b[39m\u001b[38;5;132;01m{\u001b[39;00mfile\u001b[38;5;132;01m}\u001b[39;00m\u001b[38;5;124m by default \u001b[39m\u001b[38;5;124m\"\u001b[39m\n\u001b[0;32m    282\u001b[0m         \u001b[38;5;124m\"\u001b[39m\u001b[38;5;124mas it is likely to crash IPython. If you know what you are doing, \u001b[39m\u001b[38;5;124m\"\u001b[39m\n\u001b[0;32m    283\u001b[0m         \u001b[38;5;124m\"\u001b[39m\u001b[38;5;124myou can use builtins\u001b[39m\u001b[38;5;124m'\u001b[39m\u001b[38;5;124m open.\u001b[39m\u001b[38;5;124m\"\u001b[39m\n\u001b[0;32m    284\u001b[0m     )\n\u001b[1;32m--> 286\u001b[0m \u001b[38;5;28;01mreturn\u001b[39;00m io_open(file, \u001b[38;5;241m*\u001b[39margs, \u001b[38;5;241m*\u001b[39m\u001b[38;5;241m*\u001b[39mkwargs)\n",
      "\u001b[1;31mFileNotFoundError\u001b[0m: [Errno 2] No such file or directory: 'file1.txt'"
     ]
    }
   ],
   "source": [
    "file1 = 'file1.txt'\n",
    "file2 = 'file2.txt'\n",
    "\n",
    "f1 = open(file1, 'r')\n",
    "f2 = open(file2, 'r')\n",
    "\n",
    "lines1 = f1.readlines()\n",
    "lines2 = f2.readlines()\n",
    "\n",
    "f1.close()\n",
    "f2.close()\n",
    "\n",
    "isi_line = max(len(lines1), len(lines2))\n",
    "\n",
    "for i in range(isi_line):\n",
    "    if i < len(lines1) and i < len(lines2):\n",
    "        line1 = lines1[i].strip()\n",
    "        line2 = lines2[i].strip()\n",
    "        if line1 != line2:\n",
    "            print(f'Baris {i+1}:')\n",
    "            print(f'File 1: {line1}')\n",
    "            print(f'File 2: {line2}')\n",
    "\n",
    "    elif i < len(lines1):\n",
    "        print(f'Baris {i+1}:')\n",
    "        print(f'File 1: {lines1[i].strip()}')\n",
    "        print('File 2: {lines2[i].strip()}')\n",
    "\n",
    "    elif i < len(lines2):\n",
    "        print(f'Baris {i+1}:')\n",
    "        print('File 1: [lines1[i].strip()]')\n",
    "        print(f'File 2: {lines2[i].strip()}')\n"
   ]
  },
  {
   "cell_type": "code",
   "execution_count": null,
   "id": "29bb2c24",
   "metadata": {},
   "outputs": [],
   "source": [
    "file = open(\"soal.txt\", \"r\")\n",
    "lines = file.readlines()\n",
    "file.close()\n",
    "\n",
    "nomor_file = 1\n",
    "\n",
    "for i in lines:\n",
    "    soal = i.strip()\n",
    "    if nomor_file == 1:\n",
    "        print(\"nama file\" + str(nomor_file) + \": soal.txt\")\n",
    "    print(soal.split(\"||\")[0].strip())\n",
    "    jawaban = input(\"Jawab: \")\n",
    "    if nomor_file == 4:\n",
    "        break\n",
    "    \n",
    "    if jawaban.lower() == soal.split(\"||\")[1].strip().lower():\n",
    "        print(\"Jawaban benar!\")\n",
    "    else:\n",
    "        print(\"Jawaban salah!\")\n",
    "    \n",
    "    nomor_file += 1\n"
   ]
  }
 ],
 "metadata": {
  "kernelspec": {
   "display_name": "Python 3 (ipykernel)",
   "language": "python",
   "name": "python3"
  },
  "language_info": {
   "codemirror_mode": {
    "name": "ipython",
    "version": 3
   },
   "file_extension": ".py",
   "mimetype": "text/x-python",
   "name": "python",
   "nbconvert_exporter": "python",
   "pygments_lexer": "ipython3",
   "version": "3.11.5"
  }
 },
 "nbformat": 4,
 "nbformat_minor": 5
}
